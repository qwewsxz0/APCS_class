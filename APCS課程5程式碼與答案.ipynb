{
 "cells": [
  {
   "cell_type": "code",
   "execution_count": 1,
   "metadata": {},
   "outputs": [],
   "source": [
    "# 印出系列\n",
    "# 解題系列\n",
    "# 遞迴系列"
   ]
  },
  {
   "cell_type": "markdown",
   "metadata": {},
   "source": [
    "# 印出系列"
   ]
  },
  {
   "cell_type": "code",
   "execution_count": 2,
   "metadata": {},
   "outputs": [
    {
     "name": "stdout",
     "output_type": "stream",
     "text": [
      "第1題\n"
     ]
    }
   ],
   "source": [
    "# 印出以下圖形\n",
    "k = 1\n",
    "print('第{}題'.format(k))"
   ]
  },
  {
   "cell_type": "code",
   "execution_count": 3,
   "metadata": {},
   "outputs": [
    {
     "name": "stdout",
     "output_type": "stream",
     "text": [
      "*\n",
      "*\n",
      "*\n",
      "*\n",
      "*\n",
      "*****\n"
     ]
    }
   ],
   "source": [
    "n=5\n",
    "for i in range(n+1):\n",
    "    if i!=n:\n",
    "        print(\"*\")\n",
    "    else:\n",
    "        print(i*\"*\")"
   ]
  },
  {
   "cell_type": "code",
   "execution_count": 6,
   "metadata": {},
   "outputs": [
    {
     "name": "stdout",
     "output_type": "stream",
     "text": [
      "第2題\n"
     ]
    }
   ],
   "source": [
    "# 印出以下圖形\n",
    "k+=1\n",
    "print('第{}題'.format(k))"
   ]
  },
  {
   "cell_type": "code",
   "execution_count": 5,
   "metadata": {},
   "outputs": [
    {
     "name": "stdout",
     "output_type": "stream",
     "text": [
      "+%%%%%\n",
      "*+%%%%\n",
      "**+%%%\n",
      "***+%%\n",
      "****+%\n",
      "*****+\n"
     ]
    }
   ],
   "source": [
    "n=5\n",
    "for i in range(n+1):\n",
    "    for j in range(n+1):\n",
    "        if i>j:\n",
    "            print(\"*\",end = '')\n",
    "        elif i==j:\n",
    "            print(\"+\",end = '')\n",
    "        else:\n",
    "            print(\"%\",end = '')\n",
    "    print()"
   ]
  },
  {
   "cell_type": "code",
   "execution_count": 7,
   "metadata": {},
   "outputs": [
    {
     "name": "stdout",
     "output_type": "stream",
     "text": [
      "第3題\n"
     ]
    }
   ],
   "source": [
    "# 印出以下圖形\n",
    "k+=1\n",
    "print('第{}題'.format(k))"
   ]
  },
  {
   "cell_type": "code",
   "execution_count": 8,
   "metadata": {},
   "outputs": [
    {
     "name": "stdout",
     "output_type": "stream",
     "text": [
      "*********\n",
      " ******* \n",
      "  *****  \n",
      "   ***   \n",
      "    *    \n",
      "   ***   \n",
      "  *****  \n",
      " ******* \n",
      "*********\n"
     ]
    }
   ],
   "source": [
    "for i in range(-4,4+1):\n",
    "    for j in range(-4,4+1):\n",
    "        if abs(i)>=abs(j):\n",
    "            print('*',end = '')\n",
    "        else:\n",
    "            print(' ',end = '')\n",
    "    print()"
   ]
  },
  {
   "cell_type": "code",
   "execution_count": 11,
   "metadata": {},
   "outputs": [
    {
     "name": "stdout",
     "output_type": "stream",
     "text": [
      "A\n",
      "B\n",
      "C\n",
      "Z\n"
     ]
    }
   ],
   "source": [
    "# 已知以下輸出\n",
    "print(chr(65+0))\n",
    "print(chr(65+1))\n",
    "print(chr(65+2))\n",
    "print(chr(65+25))"
   ]
  },
  {
   "cell_type": "code",
   "execution_count": null,
   "metadata": {},
   "outputs": [],
   "source": [
    "# 印出以下圖形\n",
    "k+=1\n",
    "print('第{}題'.format(k))"
   ]
  },
  {
   "cell_type": "code",
   "execution_count": 10,
   "metadata": {},
   "outputs": [
    {
     "name": "stdout",
     "output_type": "stream",
     "text": [
      "A\n",
      "BB\n",
      "CCC\n",
      "DDDD\n",
      "EEEEE\n"
     ]
    }
   ],
   "source": [
    "for i in range(0,5):\n",
    "    print((i+1)*chr(65+i))"
   ]
  },
  {
   "cell_type": "code",
   "execution_count": 12,
   "metadata": {},
   "outputs": [
    {
     "name": "stdout",
     "output_type": "stream",
     "text": [
      "第5題\n"
     ]
    }
   ],
   "source": [
    "# 印出以下圖形\n",
    "k+=1\n",
    "print('第{}題'.format(k))"
   ]
  },
  {
   "cell_type": "code",
   "execution_count": 13,
   "metadata": {},
   "outputs": [
    {
     "name": "stdout",
     "output_type": "stream",
     "text": [
      "AAAAA\n",
      "BBBB\n",
      "CCC\n",
      "DD\n",
      "E\n"
     ]
    }
   ],
   "source": [
    "for i in range(0,5):\n",
    "    print((5-i)*chr(65+i))"
   ]
  },
  {
   "cell_type": "code",
   "execution_count": 14,
   "metadata": {},
   "outputs": [
    {
     "name": "stdout",
     "output_type": "stream",
     "text": [
      "第6題\n"
     ]
    }
   ],
   "source": [
    "# 印出以下圖形\n",
    "k+=1\n",
    "print('第{}題'.format(k))"
   ]
  },
  {
   "cell_type": "code",
   "execution_count": 15,
   "metadata": {},
   "outputs": [
    {
     "name": "stdout",
     "output_type": "stream",
     "text": [
      "AAAAAA\n",
      "BBBBBA\n",
      "CCCCBA\n",
      "DDDCBA\n",
      "EEDCBA\n",
      "FEDCBA\n"
     ]
    }
   ],
   "source": [
    "for i in range(0,5+1):\n",
    "    for j in range(-5,0+1):\n",
    "        var = min(abs(i),abs(j))\n",
    "        print(chr(65+var),end='')\n",
    "    print()"
   ]
  },
  {
   "cell_type": "code",
   "execution_count": 16,
   "metadata": {},
   "outputs": [
    {
     "name": "stdout",
     "output_type": "stream",
     "text": [
      "a\n",
      "b\n",
      "c\n",
      "z\n"
     ]
    }
   ],
   "source": [
    "# 已知以下輸出\n",
    "print(chr(97+0))\n",
    "print(chr(97+1))\n",
    "print(chr(97+2))\n",
    "print(chr(97+25))"
   ]
  },
  {
   "cell_type": "code",
   "execution_count": 17,
   "metadata": {},
   "outputs": [
    {
     "name": "stdout",
     "output_type": "stream",
     "text": [
      "第7題\n"
     ]
    }
   ],
   "source": [
    "k+=1\n",
    "print('第{}題'.format(k))\n",
    "# 印出以下圖形"
   ]
  },
  {
   "cell_type": "code",
   "execution_count": 18,
   "metadata": {},
   "outputs": [
    {
     "name": "stdout",
     "output_type": "stream",
     "text": [
      "e       e\n",
      " d     d \n",
      "  c   c  \n",
      "   b b   \n",
      "    a    \n",
      "   b b   \n",
      "  c   c  \n",
      " d     d \n",
      "e       e\n"
     ]
    }
   ],
   "source": [
    "for i in range(-4,4+1):\n",
    "    for j in range(-4,4+1):\n",
    "        if abs(i)==abs(j):\n",
    "            print(chr(97+abs(i)),end = '')\n",
    "        else:\n",
    "            print(' ',end = '')\n",
    "    print()"
   ]
  },
  {
   "cell_type": "code",
   "execution_count": 19,
   "metadata": {},
   "outputs": [
    {
     "name": "stdout",
     "output_type": "stream",
     "text": [
      "第8題\n"
     ]
    }
   ],
   "source": [
    "# 印出以下圖形\n",
    "k+=1\n",
    "print('第{}題'.format(k))"
   ]
  },
  {
   "cell_type": "code",
   "execution_count": 20,
   "metadata": {},
   "outputs": [
    {
     "name": "stdout",
     "output_type": "stream",
     "text": [
      "01\n",
      "0202\n",
      "030303\n",
      "04040404\n",
      "0505050505\n",
      "060606060606\n",
      "07070707070707\n",
      "0808080808080808\n",
      "090909090909090909\n",
      "10101010101010101010\n",
      "1111111111111111111111\n"
     ]
    }
   ],
   "source": [
    "for i in range(1,12):\n",
    "    for j in range(i):\n",
    "        if len(str(i))==1:\n",
    "            print('0'+str(i),end='')\n",
    "        else:\n",
    "            print(str(i),end='')\n",
    "    print()"
   ]
  },
  {
   "cell_type": "code",
   "execution_count": 21,
   "metadata": {},
   "outputs": [
    {
     "name": "stdout",
     "output_type": "stream",
     "text": [
      "第9題\n"
     ]
    }
   ],
   "source": [
    "# 印出以下圖形\n",
    "k+=1\n",
    "print('第{}題'.format(k))"
   ]
  },
  {
   "cell_type": "code",
   "execution_count": 23,
   "metadata": {},
   "outputs": [
    {
     "name": "stdout",
     "output_type": "stream",
     "text": [
      "*    \n",
      " *   \n",
      "  *  \n",
      "   * \n",
      "    *\n"
     ]
    }
   ],
   "source": [
    "# 已知以下程式碼輸出\n",
    "for i in range(0,5):\n",
    "    for j in range(0,5):\n",
    "        if i==j:\n",
    "            print('*',end='')\n",
    "        else:\n",
    "            print(' ',end = '')\n",
    "    print()"
   ]
  },
  {
   "cell_type": "code",
   "execution_count": 22,
   "metadata": {},
   "outputs": [
    {
     "name": "stdout",
     "output_type": "stream",
     "text": [
      "01111\n",
      "20222\n",
      "33033\n",
      "44404\n",
      "55550\n"
     ]
    }
   ],
   "source": [
    "for i in range(0,5):\n",
    "    for j in range(0,5):\n",
    "        if i==j:\n",
    "            print(0,end='')\n",
    "        else:\n",
    "            print(i+1,end = '')\n",
    "    print()"
   ]
  },
  {
   "cell_type": "code",
   "execution_count": 24,
   "metadata": {},
   "outputs": [
    {
     "name": "stdout",
     "output_type": "stream",
     "text": [
      "第10題\n"
     ]
    }
   ],
   "source": [
    "# 印出99乘法表\n",
    "k+=1\n",
    "print('第{}題'.format(k))"
   ]
  },
  {
   "cell_type": "code",
   "execution_count": 26,
   "metadata": {},
   "outputs": [
    {
     "name": "stdout",
     "output_type": "stream",
     "text": [
      "1 1  1 2  1 3  1 4  1 5  1 6  1 7  1 8  1 9  \n",
      "2 1  2 2  2 3  2 4  2 5  2 6  2 7  2 8  2 9  \n",
      "3 1  3 2  3 3  3 4  3 5  3 6  3 7  3 8  3 9  \n",
      "4 1  4 2  4 3  4 4  4 5  4 6  4 7  4 8  4 9  \n",
      "5 1  5 2  5 3  5 4  5 5  5 6  5 7  5 8  5 9  \n",
      "6 1  6 2  6 3  6 4  6 5  6 6  6 7  6 8  6 9  \n",
      "7 1  7 2  7 3  7 4  7 5  7 6  7 7  7 8  7 9  \n",
      "8 1  8 2  8 3  8 4  8 5  8 6  8 7  8 8  8 9  \n",
      "9 1  9 2  9 3  9 4  9 5  9 6  9 7  9 8  9 9  \n"
     ]
    }
   ],
   "source": [
    "# 已知以下程式碼輸出\n",
    "for i in range(1,10):\n",
    "    for j in range(1,10):\n",
    "        print(i,j,end='  ')\n",
    "    print()"
   ]
  },
  {
   "cell_type": "code",
   "execution_count": 25,
   "metadata": {},
   "outputs": [
    {
     "name": "stdout",
     "output_type": "stream",
     "text": [
      "1 * 1 = 1  1 * 2 = 2  1 * 3 = 3  1 * 4 = 4  1 * 5 = 5  1 * 6 = 6  1 * 7 = 7  1 * 8 = 8  1 * 9 = 9  \n",
      "2 * 1 = 2  2 * 2 = 4  2 * 3 = 6  2 * 4 = 8  2 * 5 = 10  2 * 6 = 12  2 * 7 = 14  2 * 8 = 16  2 * 9 = 18  \n",
      "3 * 1 = 3  3 * 2 = 6  3 * 3 = 9  3 * 4 = 12  3 * 5 = 15  3 * 6 = 18  3 * 7 = 21  3 * 8 = 24  3 * 9 = 27  \n",
      "4 * 1 = 4  4 * 2 = 8  4 * 3 = 12  4 * 4 = 16  4 * 5 = 20  4 * 6 = 24  4 * 7 = 28  4 * 8 = 32  4 * 9 = 36  \n",
      "5 * 1 = 5  5 * 2 = 10  5 * 3 = 15  5 * 4 = 20  5 * 5 = 25  5 * 6 = 30  5 * 7 = 35  5 * 8 = 40  5 * 9 = 45  \n",
      "6 * 1 = 6  6 * 2 = 12  6 * 3 = 18  6 * 4 = 24  6 * 5 = 30  6 * 6 = 36  6 * 7 = 42  6 * 8 = 48  6 * 9 = 54  \n",
      "7 * 1 = 7  7 * 2 = 14  7 * 3 = 21  7 * 4 = 28  7 * 5 = 35  7 * 6 = 42  7 * 7 = 49  7 * 8 = 56  7 * 9 = 63  \n",
      "8 * 1 = 8  8 * 2 = 16  8 * 3 = 24  8 * 4 = 32  8 * 5 = 40  8 * 6 = 48  8 * 7 = 56  8 * 8 = 64  8 * 9 = 72  \n",
      "9 * 1 = 9  9 * 2 = 18  9 * 3 = 27  9 * 4 = 36  9 * 5 = 45  9 * 6 = 54  9 * 7 = 63  9 * 8 = 72  9 * 9 = 81  \n"
     ]
    }
   ],
   "source": [
    "for i in range(1,10):\n",
    "    for j in range(1,10):\n",
    "        print(i,'*',j,'=',i*j,end='  ')\n",
    "    print()"
   ]
  },
  {
   "cell_type": "code",
   "execution_count": 20,
   "metadata": {},
   "outputs": [],
   "source": [
    "# 印出1000以內費氏數列\n",
    "k+=1\n",
    "print('第{}題'.format(k))"
   ]
  },
  {
   "cell_type": "code",
   "execution_count": 21,
   "metadata": {},
   "outputs": [],
   "source": [
    "n = 1000\n",
    "a=b=1\n",
    "c=0\n",
    "print(a)\n",
    "print(b)\n",
    "while(a+b<n):\n",
    "    c = a + b\n",
    "    a = b\n",
    "    b = c\n",
    "    print(c)"
   ]
  },
  {
   "cell_type": "markdown",
   "metadata": {},
   "source": [
    "# 解題系列"
   ]
  },
  {
   "cell_type": "code",
   "execution_count": 42,
   "metadata": {},
   "outputs": [
    {
     "name": "stdout",
     "output_type": "stream",
     "text": [
      "第1題\n"
     ]
    }
   ],
   "source": [
    "k = 1\n",
    "print('第{}題'.format(k))\n",
    "# 判斷為奇數或偶數"
   ]
  },
  {
   "cell_type": "code",
   "execution_count": null,
   "metadata": {},
   "outputs": [],
   "source": [
    "n = int(input('請輸入一整數'))\n",
    "if n%2==0:\n",
    "    print(True)\n",
    "else:\n",
    "    print(False)"
   ]
  },
  {
   "cell_type": "code",
   "execution_count": 43,
   "metadata": {},
   "outputs": [
    {
     "name": "stdout",
     "output_type": "stream",
     "text": [
      "第2題\n"
     ]
    }
   ],
   "source": [
    "k += 1\n",
    "print('第{}題'.format(k))\n",
    "# 判斷成績是否及格，若不及格者，是否可以補考\n",
    "# 若及格，輸出1，不及格且可以補考輸出2，不及格且不可以補考輸出3"
   ]
  },
  {
   "cell_type": "code",
   "execution_count": null,
   "metadata": {},
   "outputs": [],
   "source": [
    "n = int(input('請輸入一成績'))\n",
    "if n>=60:\n",
    "    print(1)\n",
    "elif n>=40:\n",
    "    print(2)\n",
    "else:\n",
    "    print(3)"
   ]
  },
  {
   "cell_type": "code",
   "execution_count": 34,
   "metadata": {},
   "outputs": [
    {
     "name": "stdout",
     "output_type": "stream",
     "text": [
      "第3題\n"
     ]
    }
   ],
   "source": [
    "# 算正整數n之總和\n",
    "k += 1\n",
    "print('第{}題'.format(k))"
   ]
  },
  {
   "cell_type": "code",
   "execution_count": 47,
   "metadata": {},
   "outputs": [
    {
     "name": "stdout",
     "output_type": "stream",
     "text": [
      "請輸入一自然數1\n",
      "1\n"
     ]
    }
   ],
   "source": [
    "n = int(input('請輸入一自然數'))\n",
    "sum_ = 0\n",
    "for i in range(1,n+1):\n",
    "    sum_ += i\n",
    "print(sum_)"
   ]
  },
  {
   "cell_type": "code",
   "execution_count": 35,
   "metadata": {},
   "outputs": [
    {
     "name": "stdout",
     "output_type": "stream",
     "text": [
      "第4題\n"
     ]
    }
   ],
   "source": [
    "# 輸入正整數n輸出所有因數\n",
    "k += 1\n",
    "print('第{}題'.format(k))"
   ]
  },
  {
   "cell_type": "code",
   "execution_count": null,
   "metadata": {},
   "outputs": [],
   "source": [
    "n = int(input('請輸入一自然數'))\n",
    "for i in range(1,n+1):\n",
    "    if n%i==0:\n",
    "        print(i)"
   ]
  },
  {
   "cell_type": "code",
   "execution_count": 36,
   "metadata": {},
   "outputs": [
    {
     "name": "stdout",
     "output_type": "stream",
     "text": [
      "第5題\n"
     ]
    }
   ],
   "source": [
    "# 質數判斷1\n",
    "k += 1\n",
    "print('第{}題'.format(k))"
   ]
  },
  {
   "cell_type": "code",
   "execution_count": null,
   "metadata": {},
   "outputs": [],
   "source": [
    "def factor_num(n):\n",
    "    factor_number = 0\n",
    "    for i in range(1,n+1):\n",
    "        if n%i==0:\n",
    "            factor_number+=1\n",
    "    return factor_number\n",
    "\n",
    "n = int(input('請輸入一自然數'))\n",
    "if factor_num(n)==2:\n",
    "    print('{}為質數'.format(n))\n",
    "else:\n",
    "    print('{}不為質數'.format(n))"
   ]
  },
  {
   "cell_type": "code",
   "execution_count": 37,
   "metadata": {},
   "outputs": [
    {
     "name": "stdout",
     "output_type": "stream",
     "text": [
      "第6題\n"
     ]
    }
   ],
   "source": [
    "# 二維陣列轉置\n",
    "k += 1\n",
    "print('第{}題'.format(k))"
   ]
  },
  {
   "cell_type": "code",
   "execution_count": null,
   "metadata": {},
   "outputs": [],
   "source": [
    "X = [[1,2,3,4],[4,5,6,8]]\n",
    "array_2d = []\n",
    "for i in range(len(X[0])):\n",
    "    for j in range(len(X)):\n",
    "        if j==0:\n",
    "            array_1d = [X[j][i]]\n",
    "        else:\n",
    "            array_1d.append(X[j][i])\n",
    "    array_2d.append(array_1d)\n",
    "print(array_2d)"
   ]
  },
  {
   "cell_type": "code",
   "execution_count": 40,
   "metadata": {},
   "outputs": [
    {
     "name": "stdout",
     "output_type": "stream",
     "text": [
      "第9題\n"
     ]
    }
   ],
   "source": [
    "# 不利用現成函數找最大數\n",
    "k += 1\n",
    "print('第{}題'.format(k))"
   ]
  },
  {
   "cell_type": "code",
   "execution_count": null,
   "metadata": {},
   "outputs": [],
   "source": [
    "list_ = [10,2,9,-3,4]\n",
    "for i in range(len(list_)):\n",
    "    if i==0:\n",
    "        max_num = list_[i]\n",
    "    else:\n",
    "        if list_[i]>max_num:\n",
    "            max_num = list_[i]\n",
    "print(max_num)"
   ]
  },
  {
   "cell_type": "code",
   "execution_count": 38,
   "metadata": {},
   "outputs": [
    {
     "name": "stdout",
     "output_type": "stream",
     "text": [
      "第7題\n"
     ]
    }
   ],
   "source": [
    "# 質數判斷2\n",
    "k += 1\n",
    "print('第{}題'.format(k))"
   ]
  },
  {
   "cell_type": "code",
   "execution_count": null,
   "metadata": {},
   "outputs": [],
   "source": [
    "import math\n",
    "n = 13\n",
    "sqrt_num = int(math.sqrt(n))\n",
    "is_prime = True\n",
    "for i in range(2,sqrt_num+1):\n",
    "    if n%i==0:\n",
    "        is_prime = False\n",
    "        break\n",
    "    else:\n",
    "        is_prime = True\n",
    "if is_prime == True:\n",
    "    print('{}為質數'.format(n))\n",
    "else:\n",
    "    print('{}不為質數'.format(n))"
   ]
  },
  {
   "cell_type": "code",
   "execution_count": 39,
   "metadata": {},
   "outputs": [
    {
     "name": "stdout",
     "output_type": "stream",
     "text": [
      "第8題\n"
     ]
    }
   ],
   "source": [
    "# 3的冪次方判斷\n",
    "k += 1\n",
    "print('第{}題'.format(k))"
   ]
  },
  {
   "cell_type": "code",
   "execution_count": null,
   "metadata": {},
   "outputs": [],
   "source": [
    "n = int(input('請輸入數字'))\n",
    "if n == 1:\n",
    "    print('yes')\n",
    "if n == 2:\n",
    "    print('no')\n",
    "while(n>=3):\n",
    "    if n%3==0:\n",
    "        n=n/3\n",
    "    else:\n",
    "        print('no')\n",
    "        break\n",
    "    if n==1 and n<3:\n",
    "        print('yes')\n",
    "    elif n<3:\n",
    "        print('no')"
   ]
  },
  {
   "cell_type": "code",
   "execution_count": 41,
   "metadata": {},
   "outputs": [
    {
     "name": "stdout",
     "output_type": "stream",
     "text": [
      "第10題\n"
     ]
    }
   ],
   "source": [
    "k += 1\n",
    "print('第{}題'.format(k))"
   ]
  },
  {
   "cell_type": "markdown",
   "metadata": {},
   "source": [
    "設計一個賭博遊戲，\n",
    "賭客有100元籌碼，\n",
    "每局賭客可以押骰子點數為\n",
    "1、2、3、4、5、6其中一個，及賭資多少錢，\n",
    "然後程式亂數跑出點數，\n",
    "賭客押中可以獲得押金的5倍，\n",
    "押錯賭資會被沒收，\n",
    "直到賭客的賭資用完或賭資加倍遊戲結束。"
   ]
  },
  {
   "cell_type": "code",
   "execution_count": null,
   "metadata": {},
   "outputs": [],
   "source": [
    "m=100\n",
    "while(m>0 and m < 200):\n",
    "    num_guess = int(input('請輸入1~6'))\n",
    "    bet = int(input('請輸入賭資'))\n",
    "    ans = random.randint(1,6)\n",
    "    if num_guess == ans:\n",
    "        m = m + bet*4\n",
    "    else:\n",
    "        m = m - bet\n",
    "    print('目前金額',m)\n",
    "    print('您猜{}答案為{}'.format(num_guess,ans))"
   ]
  },
  {
   "cell_type": "code",
   "execution_count": null,
   "metadata": {},
   "outputs": [],
   "source": [
    "# 遞迴關係式"
   ]
  },
  {
   "cell_type": "code",
   "execution_count": 3,
   "metadata": {},
   "outputs": [
    {
     "name": "stdout",
     "output_type": "stream",
     "text": [
      "6\n",
      "55\n"
     ]
    }
   ],
   "source": [
    "# example1\n",
    "def sum_recurrent(n):\n",
    "    if n==1:\n",
    "        return 1\n",
    "    else:\n",
    "        return n+sum_recurrent(n-1)\n",
    "print(sum_recurrent(3))\n",
    "print(sum_recurrent(10))"
   ]
  },
  {
   "cell_type": "code",
   "execution_count": 4,
   "metadata": {},
   "outputs": [
    {
     "name": "stdout",
     "output_type": "stream",
     "text": [
      "6\n",
      "120\n"
     ]
    }
   ],
   "source": [
    "# example2\n",
    "def factorial_recurrent(n):\n",
    "    if n==1:\n",
    "        return 1\n",
    "    else:\n",
    "        return n*factorial_recurrent(n-1)\n",
    "print(factorial_recurrent(3))\n",
    "print(factorial_recurrent(5))"
   ]
  },
  {
   "cell_type": "code",
   "execution_count": 7,
   "metadata": {},
   "outputs": [
    {
     "name": "stdout",
     "output_type": "stream",
     "text": [
      "1\n",
      "1\n",
      "2\n",
      "3\n",
      "5\n"
     ]
    }
   ],
   "source": [
    "# example3\n",
    "def Fibonacci_recurrent(n):\n",
    "    if n==1 or n==2:\n",
    "        return 1\n",
    "    else:\n",
    "        return Fibonacci_recurrent(n-1) + Fibonacci_recurrent(n-2)\n",
    "for i in range(1,6):\n",
    "    print(Fibonacci_recurrent(i))"
   ]
  },
  {
   "cell_type": "code",
   "execution_count": null,
   "metadata": {},
   "outputs": [],
   "source": [
    "# eight queen"
   ]
  },
  {
   "cell_type": "code",
   "execution_count": 2,
   "metadata": {
    "scrolled": true
   },
   "outputs": [
    {
     "name": "stdout",
     "output_type": "stream",
     "text": [
      "1  1  5  8  6  3  7  2  4  \n",
      "2  1  6  8  3  7  4  2  5  \n",
      "3  1  7  4  6  8  2  5  3  \n",
      "4  1  7  5  8  2  4  6  3  \n",
      "5  2  4  6  8  3  1  7  5  \n",
      "6  2  5  7  1  3  8  6  4  \n",
      "7  2  5  7  4  1  8  6  3  \n",
      "8  2  6  1  7  4  8  3  5  \n",
      "9  2  6  8  3  1  4  7  5  \n",
      "10  2  7  3  6  8  5  1  4  \n",
      "11  2  7  5  8  1  4  6  3  \n",
      "12  2  8  6  1  3  5  7  4  \n",
      "13  3  1  7  5  8  2  4  6  \n",
      "14  3  5  2  8  1  7  4  6  \n",
      "15  3  5  2  8  6  4  7  1  \n",
      "16  3  5  7  1  4  2  8  6  \n",
      "17  3  5  8  4  1  7  2  6  \n",
      "18  3  6  2  5  8  1  7  4  \n",
      "19  3  6  2  7  1  4  8  5  \n",
      "20  3  6  2  7  5  1  8  4  \n",
      "21  3  6  4  1  8  5  7  2  \n",
      "22  3  6  4  2  8  5  7  1  \n",
      "23  3  6  8  1  4  7  5  2  \n",
      "24  3  6  8  1  5  7  2  4  \n",
      "25  3  6  8  2  4  1  7  5  \n",
      "26  3  7  2  8  5  1  4  6  \n",
      "27  3  7  2  8  6  4  1  5  \n",
      "28  3  8  4  7  1  6  2  5  \n",
      "29  4  1  5  8  2  7  3  6  \n",
      "30  4  1  5  8  6  3  7  2  \n",
      "31  4  2  5  8  6  1  3  7  \n",
      "32  4  2  7  3  6  8  1  5  \n",
      "33  4  2  7  3  6  8  5  1  \n",
      "34  4  2  7  5  1  8  6  3  \n",
      "35  4  2  8  5  7  1  3  6  \n",
      "36  4  2  8  6  1  3  5  7  \n",
      "37  4  6  1  5  2  8  3  7  \n",
      "38  4  6  8  2  7  1  3  5  \n",
      "39  4  6  8  3  1  7  5  2  \n",
      "40  4  7  1  8  5  2  6  3  \n",
      "41  4  7  3  8  2  5  1  6  \n",
      "42  4  7  5  2  6  1  3  8  \n",
      "43  4  7  5  3  1  6  8  2  \n",
      "44  4  8  1  3  6  2  7  5  \n",
      "45  4  8  1  5  7  2  6  3  \n",
      "46  4  8  5  3  1  7  2  6  \n",
      "47  5  1  4  6  8  2  7  3  \n",
      "48  5  1  8  4  2  7  3  6  \n",
      "49  5  1  8  6  3  7  2  4  \n",
      "50  5  2  4  6  8  3  1  7  \n",
      "51  5  2  4  7  3  8  6  1  \n",
      "52  5  2  6  1  7  4  8  3  \n",
      "53  5  2  8  1  4  7  3  6  \n",
      "54  5  3  1  6  8  2  4  7  \n",
      "55  5  3  1  7  2  8  6  4  \n",
      "56  5  3  8  4  7  1  6  2  \n",
      "57  5  7  1  3  8  6  4  2  \n",
      "58  5  7  1  4  2  8  6  3  \n",
      "59  5  7  2  4  8  1  3  6  \n",
      "60  5  7  2  6  3  1  4  8  \n",
      "61  5  7  2  6  3  1  8  4  \n",
      "62  5  7  4  1  3  8  6  2  \n",
      "63  5  8  4  1  3  6  2  7  \n",
      "64  5  8  4  1  7  2  6  3  \n",
      "65  6  1  5  2  8  3  7  4  \n",
      "66  6  2  7  1  3  5  8  4  \n",
      "67  6  2  7  1  4  8  5  3  \n",
      "68  6  3  1  7  5  8  2  4  \n",
      "69  6  3  1  8  4  2  7  5  \n",
      "70  6  3  1  8  5  2  4  7  \n",
      "71  6  3  5  7  1  4  2  8  \n",
      "72  6  3  5  8  1  4  2  7  \n",
      "73  6  3  7  2  4  8  1  5  \n",
      "74  6  3  7  2  8  5  1  4  \n",
      "75  6  3  7  4  1  8  2  5  \n",
      "76  6  4  1  5  8  2  7  3  \n",
      "77  6  4  2  8  5  7  1  3  \n",
      "78  6  4  7  1  3  5  2  8  \n",
      "79  6  4  7  1  8  2  5  3  \n",
      "80  6  8  2  4  1  7  5  3  \n",
      "81  7  1  3  8  6  4  2  5  \n",
      "82  7  2  4  1  8  5  3  6  \n",
      "83  7  2  6  3  1  4  8  5  \n",
      "84  7  3  1  6  8  5  2  4  \n",
      "85  7  3  8  2  5  1  6  4  \n",
      "86  7  4  2  5  8  1  3  6  \n",
      "87  7  4  2  8  6  1  3  5  \n",
      "88  7  5  3  1  6  8  2  4  \n",
      "89  8  2  4  1  7  5  3  6  \n",
      "90  8  2  5  3  1  7  4  6  \n",
      "91  8  3  1  6  2  5  7  4  \n",
      "92  8  4  1  3  6  2  7  5  \n"
     ]
    }
   ],
   "source": [
    "s = [0]*8\n",
    "num = 1\n",
    "try_num = 1\n",
    "def qn(curStep):\n",
    "    global num\n",
    "    global try_num\n",
    "    try_num += 1\n",
    "    if curStep < 8:\n",
    "        for i in range(8):\n",
    "            for j in range(curStep):\n",
    "                if s[j] == i: \n",
    "                    break\n",
    "                if (((s[j] - i) == (j - curStep)) or ((s[j] - i) == (curStep - j))): \n",
    "                    break\n",
    "                if j == (curStep - 1):\n",
    "                    s[curStep]=i\n",
    "                    qn(curStep+1)\n",
    "    else:\n",
    "        print(num,\" \",end='')\n",
    "        num += 1\n",
    "        for i in range(8):\n",
    "            print(s[i]+1,\" \",end='')\n",
    "        print()\n",
    "\n",
    "for i in range(8):\n",
    "    s[0]=i\n",
    "    qn(1)"
   ]
  },
  {
   "cell_type": "code",
   "execution_count": 3,
   "metadata": {},
   "outputs": [
    {
     "data": {
      "text/plain": [
       "2057"
      ]
     },
     "execution_count": 3,
     "metadata": {},
     "output_type": "execute_result"
    }
   ],
   "source": [
    "try_num"
   ]
  }
 ],
 "metadata": {
  "kernelspec": {
   "display_name": "Python 3",
   "language": "python",
   "name": "python3"
  },
  "language_info": {
   "codemirror_mode": {
    "name": "ipython",
    "version": 3
   },
   "file_extension": ".py",
   "mimetype": "text/x-python",
   "name": "python",
   "nbconvert_exporter": "python",
   "pygments_lexer": "ipython3",
   "version": "3.7.7"
  }
 },
 "nbformat": 4,
 "nbformat_minor": 4
}
